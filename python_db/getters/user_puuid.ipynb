{
 "cells": [
  {
   "cell_type": "code",
   "execution_count": 8,
   "metadata": {},
   "outputs": [],
   "source": [
    "from dotenv import load_dotenv\n",
    "import os\n",
    "import requests\n",
    "import time\n",
    "\n",
    "import pandas as pd\n",
    "\n",
    "# Information\n",
    "api_key = os.environ.get('riot_api_key')\n",
    "df = pd.read_csv(r'/Users/alekaamirtay/Desktop/Coding/my_projects/new_project/python_project/python_db/info_docs/summonerID_file.csv')\n"
   ]
  },
  {
   "cell_type": "code",
   "execution_count": 9,
   "metadata": {},
   "outputs": [],
   "source": [
    "\n",
    "def get_puuid(summonerId=None, region='euw1'):\n",
    "    \"\"\"Get PUUID from gameName and tagLine\n",
    "    Args:\n",
    "        summonerId(str, optional) = Summoner id. Defaults to None\n",
    "        region(str, optional) = Region. Defaults to euw1\n",
    "        \n",
    "    Returns:\n",
    "        str = Puuid\n",
    "    \"\"\"\n",
    "    root_url = f'https://{region}.api.riotgames.com/'\n",
    "    endpoint = 'lol/summoner/v4/summoners/'\n",
    "    while True:\n",
    "        response = requests.get(root_url+endpoint+summonerId+'?api_key='+api_key)\n",
    "        if response.status_code == 429:\n",
    "            time.sleep(10)\n",
    "            continue\n",
    "        return response.json()"
   ]
  },
  {
   "cell_type": "code",
   "execution_count": 10,
   "metadata": {},
   "outputs": [
    {
     "name": "stdout",
     "output_type": "stream",
     "text": [
      "DONE\n"
     ]
    }
   ],
   "source": [
    "# Match every summonerID to puuid\n",
    "summonerID = df['summonerId'].tolist()\n",
    "puuid_list = list()\n",
    "for id in summonerID:\n",
    "    p = get_puuid(id)\n",
    "    puuid_list.append(p)\n",
    "print(\"DONE\")"
   ]
  },
  {
   "cell_type": "code",
   "execution_count": 11,
   "metadata": {},
   "outputs": [],
   "source": [
    "# Create Data Frame\n",
    "df_puuid = pd.DataFrame(puuid_list, columns=['puuid'])\n",
    "df_puuid = df_puuid.dropna()\n",
    "# Generate an CSV file to store data\n",
    "df_puuid[['puuid']].to_csv('/Users/alekaamirtay/Desktop/Coding/my_projects/new_project/python_project/python_db/info_docs/puuid_file.csv', index=False)"
   ]
  },
  {
   "cell_type": "code",
   "execution_count": 29,
   "metadata": {},
   "outputs": [],
   "source": []
  },
  {
   "cell_type": "code",
   "execution_count": null,
   "metadata": {},
   "outputs": [],
   "source": []
  }
 ],
 "metadata": {
  "kernelspec": {
   "display_name": "venv",
   "language": "python",
   "name": "python3"
  },
  "language_info": {
   "codemirror_mode": {
    "name": "ipython",
    "version": 3
   },
   "file_extension": ".py",
   "mimetype": "text/x-python",
   "name": "python",
   "nbconvert_exporter": "python",
   "pygments_lexer": "ipython3",
   "version": "3.9.7"
  }
 },
 "nbformat": 4,
 "nbformat_minor": 2
}
