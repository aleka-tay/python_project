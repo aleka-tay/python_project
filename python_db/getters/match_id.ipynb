{
 "cells": [
  {
   "cell_type": "code",
   "execution_count": 2,
   "metadata": {},
   "outputs": [],
   "source": [
    "from dotenv import load_dotenv\n",
    "import os\n",
    "import requests\n",
    "import time\n",
    "\n",
    "import pandas as pd\n",
    "\n",
    "api_key = os.environ.get('riot_api_key')\n",
    "puuid_file = pd.read_csv(r'/Users/alekaamirtay/Desktop/Coding/my_projects/new_project/python_project/python_db/info_docs/puuid_file.csv')\n"
   ]
  },
  {
   "cell_type": "code",
   "execution_count": 3,
   "metadata": {},
   "outputs": [],
   "source": [
    "def get_match_history(region='europe', puuid=None, start=0, count=20):\n",
    "    \"\"\"Get match history\n",
    "    Args:\n",
    "        region(str, optional): Region. Defaults to europe\n",
    "        puuid(str, optional): puuid. Defaults to None\n",
    "        start(int, optional): starting from. Defaults to 0\n",
    "        count(int, optional): number of outputs. Defaults to 20\n",
    "        \n",
    "    Returns:\n",
    "        list: The output is the list of matches played by the given user.\n",
    "    \"\"\"\n",
    "    root_url = f'https://{region}.api.riotgames.com/'\n",
    "    endpoint = f'/lol/match/v5/matches/by-puuid/{puuid}/ids'\n",
    "    query_params = f'?start={start}&count={count}'\n",
    "    while True:\n",
    "        respons = requests.get(root_url+endpoint+query_params+'&api_key='+api_key)\n",
    "        if respons.status_code == 429:\n",
    "            time.sleep(5)\n",
    "            continue\n",
    "        return respons.json()"
   ]
  },
  {
   "cell_type": "code",
   "execution_count": null,
   "metadata": {},
   "outputs": [],
   "source": [
    "puuid_list = puuid_file['puuid'].tolist()\n",
    "match_id = list()\n",
    "for puuid in puuid_list:\n",
    "    match_id_list = get_match_history(puuid=puuid)\n",
    "    for id in match_id_list:\n",
    "        match_id.append(id)\n",
    "print(\"DONE!\")"
   ]
  },
  {
   "cell_type": "code",
   "execution_count": null,
   "metadata": {},
   "outputs": [],
   "source": [
    "# Write in txt file\n",
    "with open('/Users/alekaamirtay/Desktop/Coding/my_projects/new_project/python_project/python_db/info_docs/match_id.txt', 'a') as file:\n",
    "    for id in match_id:\n",
    "        file.write(id)"
   ]
  },
  {
   "cell_type": "code",
   "execution_count": null,
   "metadata": {},
   "outputs": [],
   "source": []
  }
 ],
 "metadata": {
  "kernelspec": {
   "display_name": "venv",
   "language": "python",
   "name": "python3"
  },
  "language_info": {
   "codemirror_mode": {
    "name": "ipython",
    "version": 3
   },
   "file_extension": ".py",
   "mimetype": "text/x-python",
   "name": "python",
   "nbconvert_exporter": "python",
   "pygments_lexer": "ipython3",
   "version": "3.9.7"
  }
 },
 "nbformat": 4,
 "nbformat_minor": 2
}
